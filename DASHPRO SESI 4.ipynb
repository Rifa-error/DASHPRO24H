{
 "cells": [
  {
   "cell_type": "code",
   "execution_count": null,
   "id": "649b86ec-debf-4345-9818-bfe3c7e7fc60",
   "metadata": {},
   "outputs": [],
   "source": [
    "Operasi Aritmatika"
   ]
  },
  {
   "cell_type": "code",
   "execution_count": 6,
   "id": "fbd744f8-5753-4523-9566-851a5a96b385",
   "metadata": {},
   "outputs": [
    {
     "name": "stdout",
     "output_type": "stream",
     "text": [
      "Setiap teman menerima 3.0 apel.\n",
      "Total apel yang dimiliki Budi sekarang: 20 apel.\n"
     ]
    }
   ],
   "source": [
    "apel_total = 12\n",
    "teman = 4\n",
    "apel_per_teman = apel_total / teman\n",
    "print(f\"Setiap teman menerima {apel_per_teman} apel.\")\n",
    "\n",
    "tambahan_apel = 8\n",
    "total_apel = apel_total + tambahan_apel\n",
    "print(f\"Total apel yang dimiliki Budi sekarang: {total_apel} apel.\")\n"
   ]
  },
  {
   "cell_type": "code",
   "execution_count": null,
   "id": "0f113954-a864-4dc6-b7ee-1c08a6e58c5a",
   "metadata": {},
   "outputs": [],
   "source": [
    "Operator Perbandingan"
   ]
  },
  {
   "cell_type": "code",
   "execution_count": 8,
   "id": "d8d80739-00db-41f2-a021-d50d10ec5ad0",
   "metadata": {},
   "outputs": [
    {
     "name": "stdout",
     "output_type": "stream",
     "text": [
      "Andi lebih tinggi dari Siti.\n"
     ]
    }
   ],
   "source": [
    "tinggi_siti = 160\n",
    "tinggi_andi = 165\n",
    "if tinggi_andi > tinggi_siti:\n",
    "    print(\"Andi lebih tinggi dari Siti.\")\n",
    "else:\n",
    "    print(\"Siti lebih tinggi dari Andi.\")\n"
   ]
  },
  {
   "cell_type": "code",
   "execution_count": null,
   "id": "09da6f20-89a8-4c95-968e-4033d6149c13",
   "metadata": {},
   "outputs": [],
   "source": [
    "Operator Logika"
   ]
  },
  {
   "cell_type": "code",
   "execution_count": 10,
   "id": "e1e99770-bbd5-4968-bb19-059068ccecd9",
   "metadata": {},
   "outputs": [
    {
     "name": "stdout",
     "output_type": "stream",
     "text": [
      "Budi bisa bermain: True\n"
     ]
    }
   ],
   "source": [
    "cuaca_cerah = True\n",
    "PR_selesai = True\n",
    "budi_bisa_bermain = cuaca_cerah and PR_selesai\n",
    "print(f\"Budi bisa bermain: {budi_bisa_bermain}\")"
   ]
  },
  {
   "cell_type": "code",
   "execution_count": null,
   "id": "6802823a-3571-4abd-b5d6-9e773202a0cb",
   "metadata": {},
   "outputs": [],
   "source": [
    "Operator Bitwise"
   ]
  },
  {
   "cell_type": "code",
   "execution_count": 12,
   "id": "ed6a50bc-53df-4021-a0dc-e253fc36b66d",
   "metadata": {},
   "outputs": [
    {
     "name": "stdout",
     "output_type": "stream",
     "text": [
      "Hasil AND: 2, OR: 7, XOR: 5\n"
     ]
    }
   ],
   "source": [
    "angka1 = 6 \n",
    "angka2 = 3 \n",
    "and_result = angka1 & angka2\n",
    "or_result = angka1 | angka2\n",
    "xor_result = angka1 ^ angka2\n",
    "print(f\"Hasil AND: {and_result}, OR: {or_result}, XOR: {xor_result}\")"
   ]
  },
  {
   "cell_type": "code",
   "execution_count": null,
   "id": "a8225c26-d9bf-4d36-b76b-71d04989729f",
   "metadata": {},
   "outputs": [],
   "source": [
    "Operator Penugasan"
   ]
  },
  {
   "cell_type": "code",
   "execution_count": 16,
   "id": "686a9e65-dc23-4653-b686-c912485ab165",
   "metadata": {},
   "outputs": [
    {
     "name": "stdout",
     "output_type": "stream",
     "text": [
      "Sisa saldo pulsa: Rp40000\n"
     ]
    }
   ],
   "source": [
    "saldo_pulsa = 50000\n",
    "isi_ulang = 20000\n",
    "harga_paket = 30000\n",
    "saldo_pulsa += isi_ulang \n",
    "saldo_pulsa -= harga_paket  \n",
    "print(f\"Sisa saldo pulsa: Rp{saldo_pulsa}\")"
   ]
  },
  {
   "cell_type": "code",
   "execution_count": null,
   "id": "b440377f-4fdd-4b4c-b1bb-68e8354dec44",
   "metadata": {},
   "outputs": [],
   "source": [
    "Operator Keanggotaan"
   ]
  },
  {
   "cell_type": "code",
   "execution_count": 18,
   "id": "0638ff43-e1bf-4e5b-a9d6-45f4d0e18899",
   "metadata": {},
   "outputs": [
    {
     "name": "stdout",
     "output_type": "stream",
     "text": [
      "Apakah Eka terdaftar sebagai peserta? False\n",
      "Apakah kata 'Python' ada dalam kalimat? True\n"
     ]
    }
   ],
   "source": [
    "peserta = [\"Andi\", \"Budi\", \"Citra\", \"Dewi\"]\n",
    "nama = \"Eka\"\n",
    "is_terdaftar = nama in peserta\n",
    "print(f\"Apakah {nama} terdaftar sebagai peserta? {is_terdaftar}\")\n",
    "\n",
    "kalimat = \"Saya suka belajar Python\"\n",
    "kata = \"Python\"\n",
    "is_kata_ada = kata in kalimat\n",
    "print(f\"Apakah kata '{kata}' ada dalam kalimat? {is_kata_ada}\")\n"
   ]
  },
  {
   "cell_type": "code",
   "execution_count": null,
   "id": "a17d2b6c-cecb-40de-b2b9-9c4e94393c03",
   "metadata": {},
   "outputs": [],
   "source": [
    "Operator Identitas"
   ]
  },
  {
   "cell_type": "code",
   "execution_count": 20,
   "id": "f7efa0e0-2400-41a9-89cd-e6536daafc1e",
   "metadata": {},
   "outputs": [
    {
     "name": "stdout",
     "output_type": "stream",
     "text": [
      "x is y: True\n",
      "list1 is list2: False\n"
     ]
    }
   ],
   "source": [
    "x = [1, 2, 3]\n",
    "y = x\n",
    "print(f\"x is y: {x is y}\") \n",
    "\n",
    "list1 = [1, 2, 3]\n",
    "list2 = [1, 2, 3]\n",
    "print(f\"list1 is list2: {list1 is list2}\")  \n"
   ]
  },
  {
   "cell_type": "code",
   "execution_count": null,
   "id": "107f1e1d-e20b-4376-b979-f4fa0275d278",
   "metadata": {},
   "outputs": [],
   "source": [
    "Operator Ternary"
   ]
  },
  {
   "cell_type": "code",
   "execution_count": 22,
   "id": "27972e91-4845-4e40-b1a6-76d7d21ae78f",
   "metadata": {},
   "outputs": [
    {
     "name": "stdout",
     "output_type": "stream",
     "text": [
      "Lebih besar dari 100\n",
      "Lulus\n"
     ]
    }
   ],
   "source": [
    "angka = 150\n",
    "hasil_angka = \"Lebih besar dari 100\" if angka > 100 else \"Tidak lebih besar dari 100\"\n",
    "print(hasil_angka)\n",
    "\n",
    "nilai_ujian = 75\n",
    "hasil_nilai = \"Lulus\" if nilai_ujian > 70 else \"Tidak Lulus\"\n",
    "print(hasil_nilai)"
   ]
  }
 ],
 "metadata": {
  "kernelspec": {
   "display_name": "Python [conda env:base] *",
   "language": "python",
   "name": "conda-base-py"
  },
  "language_info": {
   "codemirror_mode": {
    "name": "ipython",
    "version": 3
   },
   "file_extension": ".py",
   "mimetype": "text/x-python",
   "name": "python",
   "nbconvert_exporter": "python",
   "pygments_lexer": "ipython3",
   "version": "3.12.7"
  }
 },
 "nbformat": 4,
 "nbformat_minor": 5
}
