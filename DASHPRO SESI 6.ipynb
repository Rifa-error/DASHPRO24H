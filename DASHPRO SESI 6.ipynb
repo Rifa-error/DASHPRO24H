{
 "cells": [
  {
   "cell_type": "code",
   "execution_count": null,
   "id": "df8573c2-629c-40c1-9742-63c7e7a6282a",
   "metadata": {},
   "outputs": [],
   "source": [
    "Program Kategori Usia"
   ]
  },
  {
   "cell_type": "code",
   "execution_count": 3,
   "id": "16a18ee8-cd77-4209-83de-03821bdfb96e",
   "metadata": {},
   "outputs": [
    {
     "name": "stdin",
     "output_type": "stream",
     "text": [
      "Masukkan usia:  44\n"
     ]
    },
    {
     "name": "stdout",
     "output_type": "stream",
     "text": [
      "Kategori: Dewasa\n"
     ]
    }
   ],
   "source": [
    "def kategori_usia(usia):\n",
    "    if usia <= 12:\n",
    "        return \"Anak-anak\"\n",
    "    elif usia <= 17:\n",
    "        return \"Remaja\"\n",
    "    elif usia <= 59:\n",
    "        return \"Dewasa\"\n",
    "    else:\n",
    "        return \"Lansia\"\n",
    "\n",
    "usia = int(input(\"Masukkan usia: \"))\n",
    "print(\"Kategori:\", kategori_usia(usia))\n"
   ]
  },
  {
   "cell_type": "code",
   "execution_count": null,
   "id": "f2ce27db-241f-440a-a293-e1b257b43f38",
   "metadata": {},
   "outputs": [],
   "source": [
    "Program Harga Tiket"
   ]
  },
  {
   "cell_type": "code",
   "execution_count": 5,
   "id": "171cb770-2424-4178-9042-fa623dfb4b5e",
   "metadata": {},
   "outputs": [
    {
     "name": "stdin",
     "output_type": "stream",
     "text": [
      "Isikan Umur Tiket 1:  33\n",
      "Isikan Umur Tiket 2:  22\n",
      "Isikan Umur Tiket 3:  1\n"
     ]
    },
    {
     "name": "stdout",
     "output_type": "stream",
     "text": [
      "Total Harga: Rp 60000\n"
     ]
    }
   ],
   "source": [
    "harga_tiket = {\"Anak-anak\": 10000, \"Remaja\": 15000, \"Dewasa\": 25000, \"Lansia\": 0}\n",
    "usia1 = int(input(\"Isikan Umur Tiket 1: \"))\n",
    "usia2 = int(input(\"Isikan Umur Tiket 2: \"))\n",
    "usia3 = int(input(\"Isikan Umur Tiket 3: \"))\n",
    "\n",
    "total_harga = harga_tiket[kategori_usia(usia1)] + harga_tiket[kategori_usia(usia2)] + harga_tiket[kategori_usia(usia3)]\n",
    "print(\"Total Harga: Rp\", total_harga)"
   ]
  },
  {
   "cell_type": "code",
   "execution_count": null,
   "id": "35b76b2a-9d31-447d-b2dc-114f83acdfce",
   "metadata": {},
   "outputs": [],
   "source": [
    "Program Diskon Restoran"
   ]
  },
  {
   "cell_type": "code",
   "execution_count": 7,
   "id": "359cdd8e-727f-44d0-a22e-868b7efdc963",
   "metadata": {},
   "outputs": [
    {
     "name": "stdin",
     "output_type": "stream",
     "text": [
      "Masukkan harga makanan:  120000\n",
      "Masukkan usia pelanggan:  22\n"
     ]
    },
    {
     "name": "stdout",
     "output_type": "stream",
     "text": [
      "Total harga setelah diskon: Rp 120000.0\n"
     ]
    }
   ],
   "source": [
    "harga_makanan = float(input(\"Masukkan harga makanan: \"))\n",
    "usia_pelanggan = int(input(\"Masukkan usia pelanggan: \"))\n",
    "\n",
    "diskon = 0.5 if usia_pelanggan <= 12 else 0.3 if usia_pelanggan >= 60 else 0\n",
    "harga_akhir = harga_makanan * (1 - diskon)\n",
    "print(\"Total harga setelah diskon: Rp\", harga_akhir)\n"
   ]
  },
  {
   "cell_type": "code",
   "execution_count": null,
   "id": "7214e9dc-1c8c-402e-b544-a8223fc86ef5",
   "metadata": {},
   "outputs": [],
   "source": [
    "Program Beasiswa"
   ]
  },
  {
   "cell_type": "code",
   "execution_count": 9,
   "id": "b031432e-d804-4aa8-b232-095391c17b42",
   "metadata": {},
   "outputs": [
    {
     "name": "stdin",
     "output_type": "stream",
     "text": [
      "Masukkan nilai rapor:  99\n",
      "Masukkan penghasilan orang tua:  5000\n"
     ]
    },
    {
     "name": "stdout",
     "output_type": "stream",
     "text": [
      "Beasiswa Penuh\n"
     ]
    }
   ],
   "source": [
    "nilai_rapor = float(input(\"Masukkan nilai rapor: \"))\n",
    "penghasilan = float(input(\"Masukkan penghasilan orang tua: \"))\n",
    "\n",
    "if nilai_rapor >= 90 and penghasilan < 5000000:\n",
    "    print(\"Beasiswa Penuh\")\n",
    "elif nilai_rapor >= 85 and penghasilan < 8000000:\n",
    "    print(\"Beasiswa 50%\")\n",
    "else:\n",
    "    print(\"Tidak mendapatkan beasiswa\")\n"
   ]
  },
  {
   "cell_type": "code",
   "execution_count": null,
   "id": "f3522336-19f8-404a-9c0c-cce4b1964993",
   "metadata": {},
   "outputs": [],
   "source": [
    "Program Batasan Usia Film"
   ]
  },
  {
   "cell_type": "code",
   "execution_count": 11,
   "id": "993f26a4-e031-4240-ac82-a62367510921",
   "metadata": {},
   "outputs": [
    {
     "name": "stdin",
     "output_type": "stream",
     "text": [
      "Masukkan usia:  22\n",
      "Masukkan kategori film (Semua Umur/Remaja/Dewasa):  dewasa\n"
     ]
    },
    {
     "name": "stdout",
     "output_type": "stream",
     "text": [
      "Boleh menonton: Tidak\n"
     ]
    }
   ],
   "source": [
    "usia = int(input(\"Masukkan usia: \"))\n",
    "kategori_film = input(\"Masukkan kategori film (Semua Umur/Remaja/Dewasa): \")\n",
    "\n",
    "boleh_menonton = kategori_film == \"Semua Umur\" or (kategori_film == \"Remaja\" and usia >= 13) or (kategori_film == \"Dewasa\" and usia >= 18)\n",
    "print(\"Boleh menonton:\", \"Ya\" if boleh_menonton else \"Tidak\")"
   ]
  },
  {
   "cell_type": "code",
   "execution_count": null,
   "id": "15a61008-b4b0-411c-a24d-1004909efd75",
   "metadata": {},
   "outputs": [],
   "source": [
    "Program Diskon Toko"
   ]
  },
  {
   "cell_type": "code",
   "execution_count": 13,
   "id": "8857bcfa-53af-443f-bc61-da943123845c",
   "metadata": {},
   "outputs": [
    {
     "name": "stdin",
     "output_type": "stream",
     "text": [
      "Masukkan total belanja:  1200000\n"
     ]
    },
    {
     "name": "stdout",
     "output_type": "stream",
     "text": [
      "Total harga setelah diskon: Rp 960000.0\n"
     ]
    }
   ],
   "source": [
    "total_belanja = float(input(\"Masukkan total belanja: \"))\n",
    "diskon = 0.2 if total_belanja >= 500000 else 0.1 if total_belanja >= 250000 else 0\n",
    "harga_akhir = total_belanja * (1 - diskon)\n",
    "print(\"Total harga setelah diskon: Rp\", harga_akhir)"
   ]
  },
  {
   "cell_type": "code",
   "execution_count": null,
   "id": "28ef25d6-65fb-4a58-940e-223b1cae23b8",
   "metadata": {},
   "outputs": [],
   "source": [
    "Program Parkir"
   ]
  },
  {
   "cell_type": "code",
   "execution_count": 15,
   "id": "2ba26bf9-227b-42f9-a55f-78c04e888ff4",
   "metadata": {},
   "outputs": [
    {
     "name": "stdin",
     "output_type": "stream",
     "text": [
      "Masukkan jenis kendaraan (Mobil/Motor):  motor\n",
      "Masukkan lama parkir (jam):  55\n"
     ]
    },
    {
     "name": "stdout",
     "output_type": "stream",
     "text": [
      "Total biaya parkir: Rp 120000\n"
     ]
    }
   ],
   "source": [
    "jenis_kendaraan = input(\"Masukkan jenis kendaraan (Mobil/Motor): \")\n",
    "lama_parkir = int(input(\"Masukkan lama parkir (jam): \"))\n",
    "\n",
    "tarif = 5000 if jenis_kendaraan.lower() == \"mobil\" else 2000\n",
    "biaya = tarif * lama_parkir + (10000 if lama_parkir > 5 else 0)\n",
    "print(\"Total biaya parkir: Rp\", biaya)\n"
   ]
  },
  {
   "cell_type": "code",
   "execution_count": null,
   "id": "c014a96e-e36a-4b68-abd5-766b9df6af03",
   "metadata": {},
   "outputs": [],
   "source": [
    "Program Tarif Transportasi"
   ]
  },
  {
   "cell_type": "code",
   "execution_count": 17,
   "id": "793b678a-e47f-415e-a3e3-99a49c0c207f",
   "metadata": {},
   "outputs": [
    {
     "name": "stdin",
     "output_type": "stream",
     "text": [
      "Masukkan jarak perjalanan (km):  9999\n"
     ]
    },
    {
     "name": "stdout",
     "output_type": "stream",
     "text": [
      "Total biaya perjalanan: Rp 29997000.0\n"
     ]
    }
   ],
   "source": [
    "jarak = float(input(\"Masukkan jarak perjalanan (km): \"))\n",
    "if jarak <= 5:\n",
    "    tarif = 5000\n",
    "elif jarak <= 10:\n",
    "    tarif = 4000\n",
    "else:\n",
    "    tarif = 3000\n",
    "biaya = tarif * jarak\n",
    "print(\"Total biaya perjalanan: Rp\", biaya)"
   ]
  },
  {
   "cell_type": "code",
   "execution_count": null,
   "id": "670d6948-28d5-4084-ac3b-7d09745edc81",
   "metadata": {},
   "outputs": [],
   "source": [
    "Program Penerimaan Calon Programer"
   ]
  },
  {
   "cell_type": "code",
   "execution_count": 27,
   "id": "4a254c46-7c6a-47d8-ac47-66cafe048398",
   "metadata": {},
   "outputs": [
    {
     "name": "stdin",
     "output_type": "stream",
     "text": [
      "Masukkan nilai coding:  99\n",
      "Masukkan nilai interview (A/B/C/D):  A\n"
     ]
    },
    {
     "name": "stdout",
     "output_type": "stream",
     "text": [
      "Selamat Kamu Berhasil Menjadi Calon Programmer\n"
     ]
    }
   ],
   "source": [
    "nilai_coding = int(input(\"Masukkan nilai coding: \"))\n",
    "nilai_interview = input(\"Masukkan nilai interview (A/B/C/D): \")\n",
    "\n",
    "hasil_coding = \"LOLOS\" if nilai_coding > 80 else \"DIPERTIMBANGKAN\" if nilai_coding >= 60 else \"GAGAL\"\n",
    "hasil_interview = \"LOLOS\" if nilai_interview in [\"A\", \"B\"] else \"GAGAL\"\n",
    "\n",
    "if hasil_coding in [\"LOLOS\", \"DIPERTIMBANGKAN\"] and hasil_interview == \"LOLOS\":\n",
    "    print(\"Selamat Kamu Berhasil Menjadi Calon Programmer\")\n",
    "else:\n",
    "    print(\"Maaf Kamu Belum Berhasil Menjadi Calon Programmer\")"
   ]
  },
  {
   "cell_type": "code",
   "execution_count": null,
   "id": "83d4c129-7060-4a72-b3f3-4f23b553a56b",
   "metadata": {},
   "outputs": [],
   "source": [
    "Program Nomor Punggung Pemain Bola"
   ]
  },
  {
   "cell_type": "code",
   "execution_count": 29,
   "id": "fd4209ba-862e-4860-b31f-ed50cea05ddf",
   "metadata": {},
   "outputs": [
    {
     "name": "stdin",
     "output_type": "stream",
     "text": [
      "Masukkan nomor punggung:  3\n"
     ]
    },
    {
     "name": "stdout",
     "output_type": "stream",
     "text": [
      "Posisi yang dapat dimainkan: Defender\n"
     ]
    }
   ],
   "source": [
    "nomor_punggung = int(input(\"Masukkan nomor punggung: \"))\n",
    "posisi = []\n",
    "\n",
    "if nomor_punggung % 2 == 0:\n",
    "    posisi.append(\"Target Attacker\")\n",
    "    if 50 <= nomor_punggung <= 100:\n",
    "        posisi.append(\"Captain Team\")\n",
    "else:\n",
    "    posisi.append(\"Defender\")\n",
    "    if nomor_punggung > 90:\n",
    "        posisi.append(\"Playmaker\")\n",
    "    if nomor_punggung % 3 == 0 and nomor_punggung % 5 == 0:\n",
    "        posisi.append(\"Keeper\")\n",
    "\n",
    "print(\"Posisi yang dapat dimainkan:\", \", \".join(posisi))\n"
   ]
  },
  {
   "cell_type": "code",
   "execution_count": null,
   "id": "2c62f567-ae69-4e05-897b-b0f015d5b26b",
   "metadata": {},
   "outputs": [],
   "source": []
  }
 ],
 "metadata": {
  "kernelspec": {
   "display_name": "Python [conda env:base] *",
   "language": "python",
   "name": "conda-base-py"
  },
  "language_info": {
   "codemirror_mode": {
    "name": "ipython",
    "version": 3
   },
   "file_extension": ".py",
   "mimetype": "text/x-python",
   "name": "python",
   "nbconvert_exporter": "python",
   "pygments_lexer": "ipython3",
   "version": "3.12.7"
  }
 },
 "nbformat": 4,
 "nbformat_minor": 5
}
