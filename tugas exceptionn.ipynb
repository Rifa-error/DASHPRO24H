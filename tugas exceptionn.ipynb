{
 "cells": [
  {
   "cell_type": "code",
   "execution_count": null,
   "id": "752828c9-c0d6-40f5-81b9-11e648526e28",
   "metadata": {},
   "outputs": [
    {
     "name": "stdout",
     "output_type": "stream",
     "text": [
      "\n",
      "1. Tambah Data\n",
      "2. Tampilkan Data\n",
      "3. Keluar\n"
     ]
    },
    {
     "name": "stdin",
     "output_type": "stream",
     "text": [
      "Pilih menu:  1\n",
      "Masukkan NIM (11 digit):  20240040176\n",
      "Masukkan Nama (min 6 huruf):  rifa adritya \n",
      "Masukkan Alamat (min 10 huruf):  jl.parungseah gede\n",
      "Masukkan Kelas (TI24A/TI24F/TI24G/TI24H):  TI24H\n"
     ]
    },
    {
     "name": "stdout",
     "output_type": "stream",
     "text": [
      "Data berhasil ditambahkan.\n",
      "\n",
      "\n",
      "1. Tambah Data\n",
      "2. Tampilkan Data\n",
      "3. Keluar\n"
     ]
    },
    {
     "name": "stdin",
     "output_type": "stream",
     "text": [
      "Pilih menu:  2\n"
     ]
    },
    {
     "name": "stdout",
     "output_type": "stream",
     "text": [
      "NIM: 20240040176, Nama: rifa adritya , Alamat: jl.parungseah gede, Kelas: TI24H\n",
      "\n",
      "1. Tambah Data\n",
      "2. Tampilkan Data\n",
      "3. Keluar\n"
     ]
    }
   ],
   "source": [
    "def tambah_data():\n",
    "    try:\n",
    "        nim = input(\"Masukkan NIM (11 digit): \")\n",
    "        nama = input(\"Masukkan Nama (min 6 huruf): \")\n",
    "        alamat = input(\"Masukkan Alamat (min 10 huruf): \")\n",
    "        kelas = input(\"Masukkan Kelas (TI24A/TI24F/TI24G/TI24H): \")\n",
    "\n",
    "        if not (nim.isdigit() and len(nim) == 11):\n",
    "            raise ValueError(\"NIM harus 11 digit.\")\n",
    "        if len(nama) < 6:\n",
    "            raise ValueError(\"Nama minimal 6 huruf.\")\n",
    "        if len(alamat) < 10:\n",
    "            raise ValueError(\"Alamat minimal 10 huruf.\")\n",
    "        if kelas not in ['TI24A', 'TI24F', 'TI24G', 'TI24H']:\n",
    "            raise ValueError(\"Kelas tidak valid.\")\n",
    "\n",
    "        with open(\"mahasiswa.txt\", \"a\") as file:\n",
    "            file.write(f\"{nim},{nama},{alamat},{kelas}\\n\")\n",
    "        print(\"Data berhasil ditambahkan.\\n\")\n",
    "\n",
    "    except ValueError as e:\n",
    "        print(\"Error:\", e)\n",
    "\n",
    "def tampilkan_data():\n",
    "    try:\n",
    "        with open(\"mahasiswa.txt\", \"r\") as file:\n",
    "            isi = file.readlines()\n",
    "            if not isi:\n",
    "                print(\"Belum ada data.\\n\")\n",
    "            else:\n",
    "                for baris in isi:\n",
    "                    nim, nama, alamat, kelas = baris.strip().split(\",\")\n",
    "                    print(f\"NIM: {nim}, Nama: {nama}, Alamat: {alamat}, Kelas: {kelas}\")\n",
    "    except FileNotFoundError:\n",
    "        print(\"File belum ada. Tambahkan data dulu.\\n\")\n",
    "\n",
    "def menu():\n",
    "    while True:\n",
    "        print(\"\\n1. Tambah Data\")\n",
    "        print(\"2. Tampilkan Data\")\n",
    "        print(\"3. Keluar\")\n",
    "        pilih = input(\"Pilih menu: \")\n",
    "        if pilih == \"1\":\n",
    "            tambah_data()\n",
    "        elif pilih == \"2\":\n",
    "            tampilkan_data()\n",
    "        elif pilih == \"3\":\n",
    "            print(\"Program selesai.\")\n",
    "            break\n",
    "        else:\n",
    "            print(\"Menu tidak valid.\")\n",
    "\n",
    "menu()"
   ]
  }
 ],
 "metadata": {
  "kernelspec": {
   "display_name": "Python [conda env:base] *",
   "language": "python",
   "name": "conda-base-py"
  },
  "language_info": {
   "codemirror_mode": {
    "name": "ipython",
    "version": 3
   },
   "file_extension": ".py",
   "mimetype": "text/x-python",
   "name": "python",
   "nbconvert_exporter": "python",
   "pygments_lexer": "ipython3",
   "version": "3.12.7"
  }
 },
 "nbformat": 4,
 "nbformat_minor": 5
}
