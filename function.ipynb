{
 "cells": [
  {
   "cell_type": "code",
   "execution_count": null,
   "id": "b32e94fe-64b8-4bec-bb65-c0968431fda1",
   "metadata": {},
   "outputs": [],
   "source": [
    "#Fungsi tanpa parameter\n",
    "import datetime #Built in function\n",
    "def showDef():\n",
    "    today = datetime.date.today()\n",
    "    print(f\"Sekarang Tanggal : {today}\")\n",
    "\n",
    "def isWeekday(): \n",
    "    week = datetime.date.today().weekday()\n",
    "    if week =5:\n",
    "        print(f\"Sekarang Adalah Weekend\")\n",
    "    else:\n",
    "        print(f\"Sekarang Saatnya Bekeja\")"
   ]
  },
  {
   "cell_type": "code",
   "execution_count": null,
   "id": "0bca6cba-5673-47da-80fb-5acb1ee0537d",
   "metadata": {},
   "outputs": [],
   "source": [
    "def getFullName(first,middle,last):\n",
    "    return f\"Welcome, {first} {middle} {last}, S.Kom\""
   ]
  },
  {
   "cell_type": "code",
   "execution_count": null,
   "id": "b63169f4-111c-4c29-bef4-c9e1f4abcab9",
   "metadata": {},
   "outputs": [],
   "source": [
    "#Fungsi dengan parameter dan return value untuk aritmatika\n",
    "def addNumber(num1,num2):\n",
    "    return num1 + num2\n",
    "\n",
    "def multiplyNumber(num1,num2):\n",
    "    return num1 * num2\n",
    "\n",
    "def addMulNumber(num1,num2):\n",
    "    add = num1 + num2\n",
    "    mul = num1 + num2\n",
    "    return add,mul\n",
    "\n",
    "bil1 = int(input(\"Isikan Bilangan 1:\"))\n",
    "bil2 = int(input(\"Isikan Bilangan 2:\"))\n",
    "r1 = addNumber(bil1,bil2)\n",
    "r2 = multiplyNumber(bil1,bil2)\n",
    "r3 = addNumber(r1,r2)\n",
    "add,mul = addMulNumber(bil1,bil2)\n",
    "\n",
    "print(f\"Hasil penjumlahan {bil1} dan {bil2}:{r1}\")\n",
    "print(f\"Hasil perkalian {bil1} dan {bil2}:{r2}\")\n",
    "print(f\"Hasil penjumlahan {bil1} dan {bil2}:{r3}\")\n",
    "print(f\"Hasil penjumlahan {bil1} dan {bil2}:{add}\")\n",
    "print(f\"Hasil perkalian {bil1} dan {bil2}:{mul}\")"
   ]
  },
  {
   "cell_type": "code",
   "execution_count": null,
   "id": "abe03b29-268d-45f6-857e-ee0694d2beb7",
   "metadata": {},
   "outputs": [],
   "source": [
    "#Fungsi tanpa parameter\n",
    "import datetime #Built in function\n",
    "def showDef():\n",
    "    today = datetime.date.today()\n",
    "    print(f\"Sekarang Tanggal : {today}\")\n",
    "\n",
    "def isWeekday(): \n",
    "    week = datetime.date.today.weekday()\n",
    "    if week >=5:\n",
    "        print(f\"Sekarang Adalah Weekend\")\n",
    "    else:\n",
    "        print(f\"Sekarang Saatnya Bekeja\")"
   ]
  },
  {
   "cell_type": "code",
   "execution_count": null,
   "id": "2cc9de3d-d313-4cd0-903e-705e7e973b24",
   "metadata": {},
   "outputs": [],
   "source": [
    "def getFullName(first,middle,last):\n",
    "    return f\"Welcome, {first} {middle} {last}, S.Kom\""
   ]
  },
  {
   "cell_type": "code",
   "execution_count": null,
   "id": "e06598fe-1a80-48f7-a663-48eb7ef5115a",
   "metadata": {},
   "outputs": [],
   "source": [
    "#Fungsi dengan parameter dan return value untuk aritmatika\n",
    "def addNumber(num1,num2):\n",
    "    return num1 + num2\n",
    "\n",
    "def multiplyNumber(num1,num2):\n",
    "    return num1 * num2\n",
    "\n",
    "def addMulNumber(num1,num2):\n",
    "    add = num1 + num2\n",
    "    mul = num1 + num2\n",
    "    return add,mul\n",
    "\n",
    "bil1 = int(input(\"Isikan Bilangan 1:\"))\n",
    "bil2 = int(input(\"Isikan Bilangan 2:\"))\n",
    "r1 = addNumber(bil1,bil2)\n",
    "r2 = multiplyNumber(bil1,bil2)\n",
    "r3 = addNumber(r1,r2)\n",
    "add,mul = addMulNumber(bil1,bil2)\n",
    "\n",
    "print(f\"Hasil penjumlahan {bil1} dan {bil2}:{r1}\")\n",
    "print(f\"Hasil perkalian {bil1} dan {bil2}:{r2}\")\n",
    "print(f\"Hasil penjumlahan {bil1} dan {bil2}:{r3}\")\n",
    "print(f\"Hasil penjumlahan {bil1} dan {bil2}:{add}\")\n",
    "print(f\"Hasil perkalian {bil1} dan {bil2}:{mul}\")"
   ]
  },
  {
   "cell_type": "code",
   "execution_count": null,
   "id": "4cf4607c-0bac-44d0-a909-492b4a11857d",
   "metadata": {},
   "outputs": [],
   "source": [
    "#fungsi dengan nilai default\n",
    "def daftarRekening(no_ktp, nama, saldo=100000):\n",
    "    ket = f\"Akun berhasil dibuat :\\n\"\n",
    "    ket += f\"No KTP : {no_ktp}\\n\"\n",
    "    ket += f\"Nama : {nama}\\n\"\n",
    "    ket += f\"saldo awal:{saldo}\\n\"\n",
    "    return ket\n",
    "\n",
    "def userRegistration(username, password, nama, status=False, role=\"user\"):\n",
    "    print(f\"Proses Registrasi Berhasil!!!\")\n",
    "    print(f\"Username : {username}\")\n",
    "    print(f\"Nama : {nama}\")\n",
    "    print(f\"Status : {status}\")\n",
    "    print(f\"Hak Akses : {role}\")\n",
    "showDate()\n",
    "#isWeekday()\n",
    "print(getFullName(\"Andi\",\"\",\"Raharja\"))\n",
    "print(daftarRekening(\"32312432432432\",\"Rudi\"))\n",
    "userRegistration(\"adi\",\"12344555\",\"Adi\")\n",
    "userRegistration(\"adi\",\"12344555\",\"Adi\",True,\"admin\")\n",
    "userRegistration(\"adi\",\"12344555\",\"Adi\",role = \"admin\")"
   ]
  },
  {
   "cell_type": "code",
   "execution_count": 73,
   "id": "f78baa86-0293-4415-aa66-02bc6d5fbb10",
   "metadata": {},
   "outputs": [
    {
     "name": "stdout",
     "output_type": "stream",
     "text": [
      "Args : ('Jan', 'Feb', 'Mar')\n",
      "Kwargs : {'nama': 'Budi', 'umur': 21, 'alamat': 'Bandung'}\n",
      "Feb\n",
      "Jan\n",
      "Feb\n",
      "Mar\n",
      "Budi\n",
      "21\n",
      "Bandung\n",
      "Total Jumlah adalah: 6\n",
      "Total Jumlah adalah: 15\n"
     ]
    }
   ],
   "source": [
    "#function argumen and keyword argumen -> * dan **\n",
    "def printData(*args,**kwargs):\n",
    "    print(\"Args :\",args)\n",
    "    print(\"Kwargs :\",kwargs)\n",
    "    return args,kwargs\n",
    "    \n",
    "args,kwargs = printData(\"Jan\",\"Feb\",\"Mar\",nama=\"Budi\",umur=21,alamat=\"Bandung\")\n",
    "print(args[1]) #Feb\n",
    "for i in args:\n",
    "    print(i)\n",
    "    \n",
    "for item in kwargs.items():\n",
    "    print(item[1])\n",
    "\n",
    "#Buatlah Fungsi untuk penjumlahan dengan jumlah parameter bebas\n",
    "def addNumbers(*numbers):\n",
    "    total = 0\n",
    "    for i in numbers:\n",
    "        total += int(i)\n",
    "    return total\n",
    "\n",
    "print(f\"Total Jumlah adalah: {addNumbers(1,2,3)}\")\n",
    "print(f\"Total Jumlah adalah: {addNumbers(1,2,3,4,5)}\")"
   ]
  }
 ],
 "metadata": {
  "kernelspec": {
   "display_name": "Python [conda env:base] *",
   "language": "python",
   "name": "conda-base-py"
  },
  "language_info": {
   "codemirror_mode": {
    "name": "ipython",
    "version": 3
   },
   "file_extension": ".py",
   "mimetype": "text/x-python",
   "name": "python",
   "nbconvert_exporter": "python",
   "pygments_lexer": "ipython3",
   "version": "3.12.7"
  }
 },
 "nbformat": 4,
 "nbformat_minor": 5
}
