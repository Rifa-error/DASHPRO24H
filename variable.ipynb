{
 "cells": [
  {
   "cell_type": "code",
   "execution_count": 25,
   "id": "51b40261-46df-4b6b-a867-0786d1ff80b1",
   "metadata": {},
   "outputs": [
    {
     "name": "stdout",
     "output_type": "stream",
     "text": [
      "Nama : Jahseh\n",
      "Alamat : jl. Cisaat\n",
      "umur : 23\n",
      "Nilai Pemrograman : 85.7\n",
      "Status Menikah : False\n",
      "Propinsi : 7413412\n"
     ]
    }
   ],
   "source": [
    "name = \"Jahseh\"\n",
    "address,province = \"jl. Cisaat\",\"7413412\"\n",
    "age = 23\n",
    "scorePython = 85.7\n",
    "isMarried = False\n",
    "\n",
    "print(\"Nama :\",name)\n",
    "print(\"Alamat :\",address)\n",
    "print(\"umur :\",age)\n",
    "print(\"Nilai Pemrograman :\",scorePython)\n",
    "print(\"Status Menikah :\", isMarried)\n",
    "print(\"Propinsi :\", province)"
   ]
  },
  {
   "cell_type": "code",
   "execution_count": 23,
   "id": "4cc25d92-9a1c-4dd2-89f4-988d39cddab4",
   "metadata": {},
   "outputs": [
    {
     "name": "stdout",
     "output_type": "stream",
     "text": [
      "Tipe data <name> : <class 'str'>\n",
      "Tipe data <address> : <class 'str'>\n",
      "Tipe data <age> : <class 'int'>\n",
      "Tipe data <scorePython> : <class 'float'>\n",
      "Tipe data <isMarried> : <class 'bool'>\n"
     ]
    }
   ],
   "source": [
    "print(\"Tipe data <name> :\",type(name))\n",
    "print(\"Tipe data <address> :\",type(address))\n",
    "print(\"Tipe data <age> :\",type(age))\n",
    "print(\"Tipe data <scorePython> :\",type(scorePython))\n",
    "print(\"Tipe data <isMarried> :\",type(isMarried))"
   ]
  },
  {
   "cell_type": "code",
   "execution_count": 41,
   "id": "5e4c7c6c-fd1c-4124-ae18-4c8f17d5d20f",
   "metadata": {},
   "outputs": [
    {
     "name": "stdout",
     "output_type": "stream",
     "text": [
      "7413414_7413412.0_True\n",
      "23_23.0_True\n",
      "85.7_85_True\n",
      "False_0_0.0\n"
     ]
    }
   ],
   "source": [
    "#Casting / KOnversi Tipe Data\n",
    "#1. String ke (int,float,boolean)\n",
    "strToInt = int(province)\n",
    "strToFloat = float(province)\n",
    "strToBool = bool(province)\n",
    "print(strToInt + 2,strToFloat,strToBool, sep=\"_\")\n",
    "\n",
    "#2. int ke (str,float,boolean)\n",
    "intToStr = str(age)\n",
    "intToFloat = float(age)\n",
    "intToBool = bool (age)\n",
    "print(intToStr, intToFloat, intToBool, sep=\"_\")\n",
    "#3. Float ke (int, str, boolean)\n",
    "floatToStr = str(scorePython)\n",
    "floatToInt = int(scorePython)\n",
    "floatToBool = bool(scorePython)\n",
    "print(floatToStr, floatToInt, floatToBool, sep=\"_\")\n",
    "#4  bool ke (int, str, boolean)\n",
    "boolToStr = str(isMarried)\n",
    "boolToInt = int(isMarried)\n",
    "boolToFloat = float(isMarried)\n",
    "print(boolToStr, boolToInt, boolToFloat, sep=\"_\")"
   ]
  },
  {
   "cell_type": "code",
   "execution_count": 43,
   "id": "8fa292e2-1be7-455a-af0d-6e95f0b68ce6",
   "metadata": {},
   "outputs": [
    {
     "name": "stdout",
     "output_type": "stream",
     "text": [
      "Nilai desimal : 500\n",
      "Nilai biner : 10\n",
      "Nilai octal : 255\n",
      "Nilai hexa : 255\n",
      "Nilai biner dari 500 : 0b111110100\n",
      "Nilai Octal dari 500 : 0o764\n",
      "Nilai Hexa dari 500 : 0x1f4\n"
     ]
    }
   ],
   "source": [
    "#Tipe data basis bilangan (desimal,biner,octal, hexa)\n",
    "\n",
    "desimal = 500\n",
    "biner = 0b1010 #10\n",
    "octal = 0o377 #255\n",
    "hexa = 0xff #255\n",
    "\n",
    "print(\"Nilai desimal :\",desimal)\n",
    "print(\"Nilai biner :\",biner)\n",
    "print(\"Nilai octal :\",octal)\n",
    "print(\"Nilai hexa :\",hexa)\n",
    "\n",
    "print(\"Nilai biner dari\",desimal, \":\",bin(desimal))\n",
    "print(\"Nilai Octal dari\",desimal, \":\",oct(desimal))\n",
    "print(\"Nilai Hexa dari\",desimal, \":\",hex(desimal))"
   ]
  },
  {
   "cell_type": "code",
   "execution_count": 45,
   "id": "0560949e-1b48-4fa0-8d2f-947fe56cf49a",
   "metadata": {},
   "outputs": [
    {
     "name": "stdout",
     "output_type": "stream",
     "text": [
      "B\n",
      "7\n",
      "G\n"
     ]
    }
   ],
   "source": [
    "city = \"BANDUNG\"\n",
    "length = len(city)\n",
    "print(city[0])\n",
    "print(length)\n",
    "print(city[length-1])"
   ]
  },
  {
   "cell_type": "code",
   "execution_count": 79,
   "id": "7de3dea2-5259-4337-b77e-45cc07974175",
   "metadata": {},
   "outputs": [
    {
     "name": "stdout",
     "output_type": "stream",
     "text": [
      "['Bandung', 'Sukabumi', 'Bogor', 'Jakarta']\n",
      "Bandung\n",
      "Jakarta\n",
      "J\n",
      "a\n",
      "['Bali', 'Sukabumi', 'Bogor', 'Jakarta']\n",
      "('Andi', 'Ferdi', 'Raihan')\n",
      "Ferdi\n",
      "{'name': 'Robi', 'age': 90000, 'address': {'street': 'Cisaat', 'number': 21, 'province': 'Jawa Barat'}, 'isMarried': True, 'hobbies': ['eat', 'sleep', 'repeat']}\n",
      "90000\n",
      "Jawa Barat\n",
      "eat\n",
      "Jawa Barat\n"
     ]
    }
   ],
   "source": [
    "#Tipe data Collection\n",
    "cities = [\"Bandung\",\"Sukabumi\",\"Bogor\",\"Jakarta\"]\n",
    "lengthCities = len(cities)\n",
    "print(cities)\n",
    "print(cities[0])\n",
    "print(cities[lengthCities-1])\n",
    "print(cities[lengthCities-1][0])\n",
    "print(cities[lengthCities-1][len(cities[lengthCities-1])-1])\n",
    "cities[0] = \"Bali\"\n",
    "#cities[5] = \"Malang\" akan meyebabkan error out of range\n",
    "print(cities)\n",
    "\n",
    "names = (\"Andi\",\"Ferdi\",\"Raihan\")\n",
    "print(names)\n",
    "print(names[1])\n",
    "#names[0] = \"Dedi\" error immutable tuple\n",
    "\n",
    "studentData = {\n",
    "    \"name\" : \"Robi\",\n",
    "    \"age\" : 90000,\n",
    "    \"address\" : {\n",
    "        \"street\" : \"Cisaat\",\n",
    "        \"number\" : 21,\n",
    "        \"province\" : \"Jawa Barat\"\n",
    "    },\n",
    "    \"isMarried\" : True,\n",
    "    \"hobbies\" : [\"eat\", \"sleep\", \"repeat\"] \n",
    "}\n",
    "\n",
    "print(studentData)\n",
    "print(studentData[\"age\"])\n",
    "print(studentData[\"address\"][\"province\"])\n",
    "print(studentData[\"hobbies\"][0])\n",
    "\n",
    "studentList = [\n",
    "    {\n",
    "    \"name\" : \"Bayu\",\n",
    "    \"age\" : 9000000,\n",
    "    \"address\" : {\n",
    "        \"street\" : \"Cicaheum\",\n",
    "        \"number\" : 69,\n",
    "        \"province\" : \"Jawa Barat\"\n",
    "    },\n",
    "    \"isMarried\" : False,\n",
    "    \"hobbies\" : [\"eat, sleep, repeat\"] \n",
    "}\n",
    "]\n",
    "\n",
    "print(studentList[0][\"address\"][\"province\"])"
   ]
  },
  {
   "cell_type": "code",
   "execution_count": 91,
   "id": "9766017f-1b1f-4144-86e6-4fb74e8d4a03",
   "metadata": {},
   "outputs": [
    {
     "name": "stdout",
     "output_type": "stream",
     "text": [
      "{'Name': 'Andi', 'Age': 99999999, 'Status': True}\n",
      "{'Name': 'Rudi', 'Address': 'Bogor'}\n",
      "dictListAnimal: {'Name': 'Crocodille', 'Type': 'Reptile', 'Class': 'Mamalia'}\n",
      "dictTupleAnimal: {'Name': 'Whale', 'Type': 'Mamalia'}\n",
      "dictFromLists: {'vehicle': 'car', 'brand': 'BMW', 'cc': 999999999}\n"
     ]
    }
   ],
   "source": [
    "#Konversi dictionary\n",
    "\n",
    "list_list = [[\"Name\",\"Andi\"],[\"Age\",99999999],[\"Status\",True]]\n",
    "dictListStudent = dict(list_list)\n",
    "print(dictListStudent)\n",
    "\n",
    "list_tuple = [(\"Name\",\"Rudi\"),(\"Address\",\"Bogor\")]\n",
    "dictTupleStudent = dict(list_tuple)\n",
    "print(dictTupleStudent)\n",
    "\n",
    "\n",
    "tuple_list = ((\"Name\", \"Crocodille\"), (\"Type\", \"Reptile\"), (\"Class\", \"Mamalia\"))\n",
    "dictListAnimal = dict(tuple_list)\n",
    "print(\"dictListAnimal:\", dictListAnimal)\n",
    "\n",
    "tuple_tuple = ((\"Name\", \"Whale\"), (\"Type\", \"Mamalia\"))\n",
    "dictTupleAnimal = dict(tuple_tuple)\n",
    "print(\"dictTupleAnimal:\", dictTupleAnimal)\n",
    "\n",
    "\n",
    "keys = [\"vehicle\", \"brand\", \"cc\"]\n",
    "values = [\"car\", \"BMW\", 999999999]\n",
    "\n",
    "\n",
    "dictFromLists = dict(zip(keys, values))\n",
    "print(\"dictFromLists:\", dictFromLists)\n",
    "\n"
   ]
  },
  {
   "cell_type": "code",
   "execution_count": null,
   "id": "940039df-365c-4c75-8561-072c0f5ff707",
   "metadata": {},
   "outputs": [],
   "source": []
  }
 ],
 "metadata": {
  "kernelspec": {
   "display_name": "Python [conda env:base] *",
   "language": "python",
   "name": "conda-base-py"
  },
  "language_info": {
   "codemirror_mode": {
    "name": "ipython",
    "version": 3
   },
   "file_extension": ".py",
   "mimetype": "text/x-python",
   "name": "python",
   "nbconvert_exporter": "python",
   "pygments_lexer": "ipython3",
   "version": "3.12.7"
  }
 },
 "nbformat": 4,
 "nbformat_minor": 5
}
