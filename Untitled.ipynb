{
 "cells": [
  {
   "cell_type": "code",
   "execution_count": 46,
   "id": "a52318f6-a337-4ff6-a66d-0591970aa28f",
   "metadata": {},
   "outputs": [
    {
     "name": "stdout",
     "output_type": "stream",
     "text": [
      "Decul lawak\n"
     ]
    },
    {
     "ename": "NameError",
     "evalue": "name 'data' is not defined",
     "output_type": "error",
     "traceback": [
      "\u001b[1;31m---------------------------------------------------------------------------\u001b[0m",
      "\u001b[1;31mNameError\u001b[0m                                 Traceback (most recent call last)",
      "Cell \u001b[1;32mIn[46], line 4\u001b[0m\n\u001b[0;32m      2\u001b[0m \u001b[38;5;28mprint\u001b[39m(\u001b[38;5;124m\"\u001b[39m\u001b[38;5;124mDecul lawak\u001b[39m\u001b[38;5;124m\"\u001b[39m)\n\u001b[0;32m      3\u001b[0m Data \u001b[38;5;241m=\u001b[39m \u001b[38;5;124m\"\u001b[39m\u001b[38;5;124m4\u001b[39m\u001b[38;5;124m\"\u001b[39m\n\u001b[1;32m----> 4\u001b[0m \u001b[38;5;28mprint\u001b[39m(data)\n\u001b[0;32m      5\u001b[0m data\n\u001b[0;32m      6\u001b[0m \u001b[38;5;241m2\u001b[39m\u001b[38;5;241m*\u001b[39m\u001b[38;5;241m2\u001b[39m\n",
      "\u001b[1;31mNameError\u001b[0m: name 'data' is not defined"
     ]
    }
   ],
   "source": [
    "#this is comment \n",
    "print(\"Decul lawak\")\n",
    "Data = \"4\"\n",
    "print(data)\n",
    "data\n",
    "2*2"
   ]
  },
  {
   "cell_type": "markdown",
   "id": "447b6dcb-ad7f-420d-8ea7-7a3ed72983f6",
   "metadata": {},
   "source": [
    "Cara menambahkan <b>cell</b> \n",
    "terbagi menjadi 2:\n",
    "<ul>\n",
    "    <li>A -(Above) menambah diatas cell aktif</li>\n",
    "    <li>B _(Below) Menambah dibawah cell aktif</li>\n",
    "</ul>\n",
    "\n",
    "<table>\n",
    "    <tr>\n",
    "        <td>Perintah</td>\n",
    "        <td>Keterangan</td>\n",
    "    </tr>\n",
    "    <tr>\n",
    "        <td>ctrl + enter</td>\n",
    "        <td>Running Program dengan fokus di cell aktif</td>\n",
    "    </tr>\n",
    "    <tr>\n",
    "        <td>Shift + enter</td>\n",
    "        <td>Running program dengan fokus di cell berikutnya</td>\n",
    "    </tr>\n",
    "</table>"
   ]
  },
  {
   "cell_type": "markdown",
   "id": "881c290e-4aa6-42e3-902d-3199bbbff9c0",
   "metadata": {},
   "source": [
    "<img src=\"https://i.ytimg.com/vi/hRDH4pp-4bI/maxresdefault.jpg\" width=\"200\"></center><br> \n",
    "Pada jupyter notebooks Jenis <b>cell</b> terbagi menjadi\n",
    "<ol> \n",
    "   <li>M (Mark Down) - M</li>\n",
    "   <li>Y (Code) - Y</li>\n",
    "</ol>\n",
    "<hr>\n"
   ]
  }
 ],
 "metadata": {
  "kernelspec": {
   "display_name": "Python [conda env:base] *",
   "language": "python",
   "name": "conda-base-py"
  },
  "language_info": {
   "codemirror_mode": {
    "name": "ipython",
    "version": 3
   },
   "file_extension": ".py",
   "mimetype": "text/x-python",
   "name": "python",
   "nbconvert_exporter": "python",
   "pygments_lexer": "ipython3",
   "version": "3.12.7"
  }
 },
 "nbformat": 4,
 "nbformat_minor": 5
}
